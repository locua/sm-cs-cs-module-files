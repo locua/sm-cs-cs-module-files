{
 "cells": [
  {
   "cell_type": "code",
   "execution_count": 1,
   "metadata": {},
   "outputs": [
    {
     "data": {
      "text/plain": [
       "array([[<matplotlib.axes._subplots.AxesSubplot object at 0x7f463ca47630>]],\n",
       "      dtype=object)"
      ]
     },
     "execution_count": 1,
     "metadata": {},
     "output_type": "execute_result"
    }
   ],
   "source": [
    "import pandas as pd\n",
    "import nltk\n",
    "import numpy as np\n",
    "from nltk.sentiment.vader import SentimentIntensityAnalyzer\n",
    "#nltk.download('vader_lexicon')\n",
    "import matplotlib.pyplot as plt\n",
    "# read csv and store text of tweets in pandas Series\n",
    "df = pd.read_csv('borisjohnson.csv')\n",
    "tweet_text = df['text']\n",
    "\n",
    "# sentiment analyser class\n",
    "analyser = SentimentIntensityAnalyzer()\n",
    "# analyse tweet\n",
    "#print(analyser.polarity_scores(tweet_text[0]))\n",
    "tweet_sentiments = []\n",
    "\n",
    "for i in tweet_text:\n",
    "    sent = analyser.polarity_scores(str(i))\n",
    "    # just store compound sentiment value of tweet\n",
    "    tweet_sentiments.append(sent['compound'])\n",
    "\n",
    "df = pd.DataFrame.from_dict(tweet_sentiments)\n",
    "df.hist()\n",
    "#print(tweet_text[1])\n",
    "#print(tweet_sentiments[1])\n",
    "\n",
    "plt.show()\n"
   ]
  }
 ],
 "metadata": {
  "kernelspec": {
   "display_name": "Python 3",
   "language": "python",
   "name": "python3"
  },
  "language_info": {
   "codemirror_mode": {
    "name": "ipython",
    "version": 3
   },
   "file_extension": ".py",
   "mimetype": "text/x-python",
   "name": "python",
   "nbconvert_exporter": "python",
   "pygments_lexer": "ipython3",
   "version": "3.6.9"
  }
 },
 "nbformat": 4,
 "nbformat_minor": 2
}
